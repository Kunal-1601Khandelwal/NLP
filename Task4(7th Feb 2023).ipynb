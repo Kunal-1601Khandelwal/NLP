{
 "cells": [
  {
   "cell_type": "code",
   "execution_count": 1,
   "id": "72bec8fb",
   "metadata": {},
   "outputs": [],
   "source": [
    "from urllib import request"
   ]
  },
  {
   "cell_type": "code",
   "execution_count": 2,
   "id": "7c5e9d4f",
   "metadata": {},
   "outputs": [],
   "source": [
    "url=\"https://www.gutenberg.org/cache/epub/69969/pg69969.txt\""
   ]
  },
  {
   "cell_type": "code",
   "execution_count": 3,
   "id": "55cb03b0",
   "metadata": {},
   "outputs": [],
   "source": [
    "response=request.urlopen(url)"
   ]
  },
  {
   "cell_type": "code",
   "execution_count": 4,
   "id": "aaf46a97",
   "metadata": {},
   "outputs": [],
   "source": [
    "raw=response.read().decode('utf8')"
   ]
  },
  {
   "cell_type": "code",
   "execution_count": 7,
   "id": "752fa9c8",
   "metadata": {},
   "outputs": [],
   "source": [
    "import nltk\n",
    "from nltk.tokenize import word_tokenize\n",
    "tokens=word_tokenize(raw)"
   ]
  },
  {
   "cell_type": "code",
   "execution_count": 8,
   "id": "5cb0196d",
   "metadata": {},
   "outputs": [
    {
     "name": "stdout",
     "output_type": "stream",
     "text": [
      "['\\ufeffThe', 'Project', 'Gutenberg', 'eBook', 'of', 'The', 'golden', 'whales', 'of', 'California', 'and', 'other', 'rhymes', 'in', 'the', 'American', 'language', ',', 'by', 'Vachel']\n"
     ]
    }
   ],
   "source": [
    "print(tokens[:20])"
   ]
  },
  {
   "cell_type": "code",
   "execution_count": 27,
   "id": "67557564",
   "metadata": {},
   "outputs": [
    {
     "data": {
      "text/plain": [
       "'fulli'"
      ]
     },
     "execution_count": 27,
     "metadata": {},
     "output_type": "execute_result"
    }
   ],
   "source": [
    "from nltk.stem import PorterStemmer\n",
    "porter=PorterStemmer()\n",
    "porter.stem('fully')"
   ]
  },
  {
   "cell_type": "code",
   "execution_count": 26,
   "id": "62f1ee68",
   "metadata": {},
   "outputs": [
    {
     "data": {
      "text/plain": [
       "'ful'"
      ]
     },
     "execution_count": 26,
     "metadata": {},
     "output_type": "execute_result"
    }
   ],
   "source": [
    "from nltk.stem import LancasterStemmer\n",
    "porter=LancasterStemmer()\n",
    "porter.stem('fully')"
   ]
  },
  {
   "cell_type": "code",
   "execution_count": 28,
   "id": "5d68f6d2",
   "metadata": {},
   "outputs": [
    {
     "data": {
      "text/plain": [
       "'k'"
      ]
     },
     "execution_count": 28,
     "metadata": {},
     "output_type": "execute_result"
    }
   ],
   "source": [
    "from nltk.stem import RegexpStemmer\n",
    "porter=RegexpStemmer('ing')\n",
    "porter.stem('king')"
   ]
  },
  {
   "cell_type": "code",
   "execution_count": 29,
   "id": "0d3d4b04",
   "metadata": {},
   "outputs": [
    {
     "data": {
      "text/plain": [
       "'detest'"
      ]
     },
     "execution_count": 29,
     "metadata": {},
     "output_type": "execute_result"
    }
   ],
   "source": [
    "from nltk.stem import SnowballStemmer\n",
    "porter=SnowballStemmer('french')\n",
    "porter.stem('detester')"
   ]
  },
  {
   "cell_type": "code",
   "execution_count": 33,
   "id": "8915dd5f",
   "metadata": {},
   "outputs": [
    {
     "name": "stdout",
     "output_type": "stream",
     "text": [
      "['\\ufeffThe', 'Project', 'Gutenberg', 'eBook', 'of', 'The', 'golden', 'whales', 'of', 'California', 'and', 'other', 'rhymes', 'in', 'the', 'American', 'language', ',', 'by', 'Vachel']\n",
      "﻿the\n",
      "project\n",
      "gutenberg\n",
      "ebook\n",
      "of\n",
      "the\n",
      "golden\n",
      "whale\n",
      "of\n",
      "california\n",
      "and\n",
      "other\n",
      "rhyme\n",
      "in\n",
      "the\n",
      "american\n",
      "languag\n",
      ",\n",
      "by\n",
      "vachel\n",
      "lindsay\n",
      "thi\n",
      "ebook\n",
      "is\n",
      "for\n",
      "the\n",
      "use\n",
      "of\n",
      "anyon\n",
      "anywher\n"
     ]
    }
   ],
   "source": [
    "porter=PorterStemmer()\n",
    "print(tokens[:20])\n",
    "for i in range(30):\n",
    "    print(porter.stem(tokens[i]))"
   ]
  },
  {
   "cell_type": "code",
   "execution_count": null,
   "id": "8e226071",
   "metadata": {},
   "outputs": [],
   "source": []
  }
 ],
 "metadata": {
  "kernelspec": {
   "display_name": "Python 3 (ipykernel)",
   "language": "python",
   "name": "python3"
  },
  "language_info": {
   "codemirror_mode": {
    "name": "ipython",
    "version": 3
   },
   "file_extension": ".py",
   "mimetype": "text/x-python",
   "name": "python",
   "nbconvert_exporter": "python",
   "pygments_lexer": "ipython3",
   "version": "3.9.7"
  }
 },
 "nbformat": 4,
 "nbformat_minor": 5
}
