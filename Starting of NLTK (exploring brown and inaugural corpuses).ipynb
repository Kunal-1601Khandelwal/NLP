{
 "cells": [
  {
   "cell_type": "code",
   "execution_count": 1,
   "id": "4081c33f",
   "metadata": {},
   "outputs": [],
   "source": [
    "import nltk"
   ]
  },
  {
   "cell_type": "code",
   "execution_count": 2,
   "id": "f410889d",
   "metadata": {},
   "outputs": [
    {
     "name": "stdout",
     "output_type": "stream",
     "text": [
      "showing info https://raw.githubusercontent.com/nltk/nltk_data/gh-pages/index.xml\n"
     ]
    },
    {
     "data": {
      "text/plain": [
       "True"
      ]
     },
     "execution_count": 2,
     "metadata": {},
     "output_type": "execute_result"
    }
   ],
   "source": [
    "nltk.download()"
   ]
  },
  {
   "cell_type": "code",
   "execution_count": 3,
   "id": "e7114663",
   "metadata": {},
   "outputs": [
    {
     "name": "stdout",
     "output_type": "stream",
     "text": [
      "*** Introductory Examples for the NLTK Book ***\n",
      "Loading text1, ..., text9 and sent1, ..., sent9\n",
      "Type the name of the text or sentence to view it.\n",
      "Type: 'texts()' or 'sents()' to list the materials.\n",
      "text1: Moby Dick by Herman Melville 1851\n",
      "text2: Sense and Sensibility by Jane Austen 1811\n",
      "text3: The Book of Genesis\n",
      "text4: Inaugural Address Corpus\n",
      "text5: Chat Corpus\n",
      "text6: Monty Python and the Holy Grail\n",
      "text7: Wall Street Journal\n",
      "text8: Personals Corpus\n",
      "text9: The Man Who Was Thursday by G . K . Chesterton 1908\n"
     ]
    }
   ],
   "source": [
    "from nltk.book import *"
   ]
  },
  {
   "cell_type": "code",
   "execution_count": 5,
   "id": "4be60e67",
   "metadata": {},
   "outputs": [],
   "source": [
    "from nltk.corpus import brown"
   ]
  },
  {
   "cell_type": "code",
   "execution_count": 6,
   "id": "cbe399c2",
   "metadata": {},
   "outputs": [
    {
     "data": {
      "text/plain": [
       "['adventure',\n",
       " 'belles_lettres',\n",
       " 'editorial',\n",
       " 'fiction',\n",
       " 'government',\n",
       " 'hobbies',\n",
       " 'humor',\n",
       " 'learned',\n",
       " 'lore',\n",
       " 'mystery',\n",
       " 'news',\n",
       " 'religion',\n",
       " 'reviews',\n",
       " 'romance',\n",
       " 'science_fiction']"
      ]
     },
     "execution_count": 6,
     "metadata": {},
     "output_type": "execute_result"
    }
   ],
   "source": [
    "brown.categories()"
   ]
  },
  {
   "cell_type": "code",
   "execution_count": 7,
   "id": "6feac908",
   "metadata": {},
   "outputs": [
    {
     "data": {
      "text/plain": [
       "['Thirty-three', 'Scotty', 'did', 'not', 'go', 'back', ...]"
      ]
     },
     "execution_count": 7,
     "metadata": {},
     "output_type": "execute_result"
    }
   ],
   "source": [
    "brown.words(categories='fiction')"
   ]
  },
  {
   "cell_type": "code",
   "execution_count": 8,
   "id": "33e68fbe",
   "metadata": {},
   "outputs": [
    {
     "name": "stdout",
     "output_type": "stream",
     "text": [
      "can: 39 could: 168 may: 10 might: 44 must: 55 will: 56 "
     ]
    }
   ],
   "source": [
    "fiction_text=brown.words(categories='fiction')\n",
    "freq=FreqDist(w.lower() for w in fiction_text)\n",
    "modals=['can','could','may','might','must','will']\n",
    "for m in modals:\n",
    "    print(m + ':', freq[m], end=' ')"
   ]
  },
  {
   "cell_type": "code",
   "execution_count": 15,
   "id": "046d4a51",
   "metadata": {},
   "outputs": [
    {
     "name": "stdout",
     "output_type": "stream",
     "text": [
      "           can could   may might  must  will \n",
      "    news    93    86    66    38    50   389 \n",
      "religion    82    59    78    12    54    71 \n",
      " fiction    37   166     8    44    55    52 \n",
      " mystery    42   141    13    57    30    20 \n",
      " reviews    45    40    45    26    19    58 \n"
     ]
    }
   ],
   "source": [
    "cfd=nltk.ConditionalFreqDist((genre,word) \n",
    "                             for genre in brown.categories()\n",
    "                             for word in brown.words(categories=genre))\n",
    "genres=['news', 'religion', 'fiction', 'mystery', 'reviews']\n",
    "cfd.tabulate(conditions=genres,samples=modals)"
   ]
  },
  {
   "cell_type": "code",
   "execution_count": 16,
   "id": "f9c20aca",
   "metadata": {},
   "outputs": [
    {
     "data": {
      "text/plain": [
       "['Dan',\n",
       " 'Morgan',\n",
       " 'told',\n",
       " 'himself',\n",
       " 'he',\n",
       " 'would',\n",
       " 'forget',\n",
       " 'Ann',\n",
       " 'Turner',\n",
       " '.',\n",
       " 'He',\n",
       " 'was',\n",
       " 'well',\n",
       " 'rid',\n",
       " 'of',\n",
       " 'her',\n",
       " '.',\n",
       " 'He',\n",
       " 'certainly',\n",
       " \"didn't\",\n",
       " 'want',\n",
       " 'a',\n",
       " 'wife',\n",
       " 'who',\n",
       " 'was',\n",
       " 'fickle',\n",
       " 'as',\n",
       " 'Ann',\n",
       " '.',\n",
       " 'If',\n",
       " 'he',\n",
       " 'had',\n",
       " 'married',\n",
       " 'her',\n",
       " ',',\n",
       " \"he'd\",\n",
       " 'have',\n",
       " 'been',\n",
       " 'asking',\n",
       " 'for',\n",
       " 'trouble',\n",
       " '.',\n",
       " 'But',\n",
       " 'all',\n",
       " 'of',\n",
       " 'this',\n",
       " 'was',\n",
       " 'rationalization',\n",
       " '.',\n",
       " 'Sometimes']"
      ]
     },
     "execution_count": 16,
     "metadata": {},
     "output_type": "execute_result"
    }
   ],
   "source": [
    "brown.words(categories='adventure')[:50]"
   ]
  },
  {
   "cell_type": "code",
   "execution_count": 17,
   "id": "f973f149",
   "metadata": {},
   "outputs": [],
   "source": [
    "from nltk.corpus import inaugural"
   ]
  },
  {
   "cell_type": "code",
   "execution_count": 19,
   "id": "d66a34ed",
   "metadata": {},
   "outputs": [
    {
     "data": {
      "text/plain": [
       "['1789-Washington.txt',\n",
       " '1793-Washington.txt',\n",
       " '1797-Adams.txt',\n",
       " '1801-Jefferson.txt',\n",
       " '1805-Jefferson.txt',\n",
       " '1809-Madison.txt',\n",
       " '1813-Madison.txt',\n",
       " '1817-Monroe.txt',\n",
       " '1821-Monroe.txt',\n",
       " '1825-Adams.txt',\n",
       " '1829-Jackson.txt',\n",
       " '1833-Jackson.txt',\n",
       " '1837-VanBuren.txt',\n",
       " '1841-Harrison.txt',\n",
       " '1845-Polk.txt',\n",
       " '1849-Taylor.txt',\n",
       " '1853-Pierce.txt',\n",
       " '1857-Buchanan.txt',\n",
       " '1861-Lincoln.txt',\n",
       " '1865-Lincoln.txt',\n",
       " '1869-Grant.txt',\n",
       " '1873-Grant.txt',\n",
       " '1877-Hayes.txt',\n",
       " '1881-Garfield.txt',\n",
       " '1885-Cleveland.txt',\n",
       " '1889-Harrison.txt',\n",
       " '1893-Cleveland.txt',\n",
       " '1897-McKinley.txt',\n",
       " '1901-McKinley.txt',\n",
       " '1905-Roosevelt.txt',\n",
       " '1909-Taft.txt',\n",
       " '1913-Wilson.txt',\n",
       " '1917-Wilson.txt',\n",
       " '1921-Harding.txt',\n",
       " '1925-Coolidge.txt',\n",
       " '1929-Hoover.txt',\n",
       " '1933-Roosevelt.txt',\n",
       " '1937-Roosevelt.txt',\n",
       " '1941-Roosevelt.txt',\n",
       " '1945-Roosevelt.txt',\n",
       " '1949-Truman.txt',\n",
       " '1953-Eisenhower.txt',\n",
       " '1957-Eisenhower.txt',\n",
       " '1961-Kennedy.txt',\n",
       " '1965-Johnson.txt',\n",
       " '1969-Nixon.txt',\n",
       " '1973-Nixon.txt',\n",
       " '1977-Carter.txt',\n",
       " '1981-Reagan.txt',\n",
       " '1985-Reagan.txt',\n",
       " '1989-Bush.txt',\n",
       " '1993-Clinton.txt',\n",
       " '1997-Clinton.txt',\n",
       " '2001-Bush.txt',\n",
       " '2005-Bush.txt',\n",
       " '2009-Obama.txt',\n",
       " '2013-Obama.txt',\n",
       " '2017-Trump.txt',\n",
       " '2021-Biden.txt']"
      ]
     },
     "execution_count": 19,
     "metadata": {},
     "output_type": "execute_result"
    }
   ],
   "source": [
    "inaugural.fileids()"
   ]
  },
  {
   "cell_type": "code",
   "execution_count": 22,
   "id": "7e810ab4",
   "metadata": {},
   "outputs": [
    {
     "data": {
      "text/plain": [
       "['My',\n",
       " 'fellow',\n",
       " 'citizens',\n",
       " ':',\n",
       " 'I',\n",
       " 'stand',\n",
       " 'here',\n",
       " 'today',\n",
       " 'humbled',\n",
       " 'by',\n",
       " 'the',\n",
       " 'task',\n",
       " 'before',\n",
       " 'us',\n",
       " ',',\n",
       " 'grateful',\n",
       " 'for',\n",
       " 'the',\n",
       " 'trust',\n",
       " 'you',\n",
       " 'have',\n",
       " 'bestowed',\n",
       " ',',\n",
       " 'mindful',\n",
       " 'of',\n",
       " 'the',\n",
       " 'sacrifices',\n",
       " 'borne',\n",
       " 'by',\n",
       " 'our',\n",
       " 'ancestors',\n",
       " '.',\n",
       " 'I',\n",
       " 'thank',\n",
       " 'President',\n",
       " 'Bush',\n",
       " 'for',\n",
       " 'his',\n",
       " 'service',\n",
       " 'to',\n",
       " 'our',\n",
       " 'nation',\n",
       " ',',\n",
       " 'as',\n",
       " 'well',\n",
       " 'as',\n",
       " 'the',\n",
       " 'generosity',\n",
       " 'and',\n",
       " 'cooperation']"
      ]
     },
     "execution_count": 22,
     "metadata": {},
     "output_type": "execute_result"
    }
   ],
   "source": [
    "inaugural.words(fileids='2009-Obama.txt')[:50]"
   ]
  },
  {
   "cell_type": "code",
   "execution_count": 23,
   "id": "cb3e32de",
   "metadata": {},
   "outputs": [
    {
     "data": {
      "text/plain": [
       "['Thank',\n",
       " 'you',\n",
       " '.',\n",
       " 'Thank',\n",
       " 'you',\n",
       " 'so',\n",
       " 'much',\n",
       " '.',\n",
       " 'Vice',\n",
       " 'President',\n",
       " 'Biden',\n",
       " ',',\n",
       " 'Mr',\n",
       " '.',\n",
       " 'Chief',\n",
       " 'Justice',\n",
       " ',',\n",
       " 'Members',\n",
       " 'of',\n",
       " 'the',\n",
       " 'United',\n",
       " 'States',\n",
       " 'Congress',\n",
       " ',',\n",
       " 'distinguished',\n",
       " 'guests',\n",
       " ',',\n",
       " 'and',\n",
       " 'fellow',\n",
       " 'citizens',\n",
       " ':',\n",
       " 'Each',\n",
       " 'time',\n",
       " 'we',\n",
       " 'gather',\n",
       " 'to',\n",
       " 'inaugurate',\n",
       " 'a',\n",
       " 'President',\n",
       " 'we',\n",
       " 'bear',\n",
       " 'witness',\n",
       " 'to',\n",
       " 'the',\n",
       " 'enduring',\n",
       " 'strength',\n",
       " 'of',\n",
       " 'our',\n",
       " 'Constitution',\n",
       " '.']"
      ]
     },
     "execution_count": 23,
     "metadata": {},
     "output_type": "execute_result"
    }
   ],
   "source": [
    "inaugural.words(fileids='2013-Obama.txt')[:50]"
   ]
  },
  {
   "cell_type": "code",
   "execution_count": 25,
   "id": "90df7055",
   "metadata": {},
   "outputs": [
    {
     "data": {
      "text/plain": [
       "['Chief',\n",
       " 'Justice',\n",
       " 'Roberts',\n",
       " ',',\n",
       " 'President',\n",
       " 'Carter',\n",
       " ',',\n",
       " 'President',\n",
       " 'Clinton',\n",
       " ',',\n",
       " 'President',\n",
       " 'Bush',\n",
       " ',',\n",
       " 'President',\n",
       " 'Obama',\n",
       " ',',\n",
       " 'fellow',\n",
       " 'Americans',\n",
       " ',',\n",
       " 'and',\n",
       " 'people',\n",
       " 'of',\n",
       " 'the',\n",
       " 'world',\n",
       " ':',\n",
       " 'Thank',\n",
       " 'you',\n",
       " '.',\n",
       " 'We',\n",
       " ',',\n",
       " 'the',\n",
       " 'citizens',\n",
       " 'of',\n",
       " 'America',\n",
       " ',',\n",
       " 'are',\n",
       " 'now',\n",
       " 'joined',\n",
       " 'in',\n",
       " 'a',\n",
       " 'great',\n",
       " 'national',\n",
       " 'effort',\n",
       " 'to',\n",
       " 'rebuild',\n",
       " 'our',\n",
       " 'country',\n",
       " 'and',\n",
       " 'restore',\n",
       " 'its']"
      ]
     },
     "execution_count": 25,
     "metadata": {},
     "output_type": "execute_result"
    }
   ],
   "source": [
    "inaugural.words(fileids='2017-Trump.txt')[:50]"
   ]
  },
  {
   "cell_type": "code",
   "execution_count": 32,
   "id": "58461244",
   "metadata": {},
   "outputs": [
    {
     "data": {
      "text/plain": [
       "FreqDist({'the': 135, ',': 130, 'and': 111, '.': 108, 'of': 82, 'to': 70, 'our': 67, 'we': 62, 'that': 49, 'a': 47, ...})"
      ]
     },
     "execution_count": 32,
     "metadata": {},
     "output_type": "execute_result"
    }
   ],
   "source": [
    "words=inaugural.words(fileids='2009-Obama.txt')\n",
    "nltk.FreqDist(w.lower() for w in words)#gives the most frequent words in a form of dictionary#"
   ]
  },
  {
   "cell_type": "code",
   "execution_count": 30,
   "id": "7bebeefe",
   "metadata": {},
   "outputs": [],
   "source": [
    "import pandas as pd "
   ]
  },
  {
   "cell_type": "code",
   "execution_count": 31,
   "id": "2c5bc18b",
   "metadata": {},
   "outputs": [
    {
     "data": {
      "text/html": [
       "<div>\n",
       "<style scoped>\n",
       "    .dataframe tbody tr th:only-of-type {\n",
       "        vertical-align: middle;\n",
       "    }\n",
       "\n",
       "    .dataframe tbody tr th {\n",
       "        vertical-align: top;\n",
       "    }\n",
       "\n",
       "    .dataframe thead th {\n",
       "        text-align: right;\n",
       "    }\n",
       "</style>\n",
       "<table border=\"1\" class=\"dataframe\">\n",
       "  <thead>\n",
       "    <tr style=\"text-align: right;\">\n",
       "      <th></th>\n",
       "      <th>Word</th>\n",
       "      <th>Frequency</th>\n",
       "    </tr>\n",
       "  </thead>\n",
       "  <tbody>\n",
       "    <tr>\n",
       "      <th>0</th>\n",
       "      <td>my</td>\n",
       "      <td>2</td>\n",
       "    </tr>\n",
       "    <tr>\n",
       "      <th>1</th>\n",
       "      <td>fellow</td>\n",
       "      <td>1</td>\n",
       "    </tr>\n",
       "    <tr>\n",
       "      <th>2</th>\n",
       "      <td>citizens</td>\n",
       "      <td>1</td>\n",
       "    </tr>\n",
       "    <tr>\n",
       "      <th>3</th>\n",
       "      <td>:</td>\n",
       "      <td>4</td>\n",
       "    </tr>\n",
       "    <tr>\n",
       "      <th>4</th>\n",
       "      <td>i</td>\n",
       "      <td>3</td>\n",
       "    </tr>\n",
       "    <tr>\n",
       "      <th>...</th>\n",
       "      <td>...</td>\n",
       "      <td>...</td>\n",
       "    </tr>\n",
       "    <tr>\n",
       "      <th>895</th>\n",
       "      <td>great</td>\n",
       "      <td>1</td>\n",
       "    </tr>\n",
       "    <tr>\n",
       "      <th>896</th>\n",
       "      <td>delivered</td>\n",
       "      <td>1</td>\n",
       "    </tr>\n",
       "    <tr>\n",
       "      <th>897</th>\n",
       "      <td>safely</td>\n",
       "      <td>1</td>\n",
       "    </tr>\n",
       "    <tr>\n",
       "      <th>898</th>\n",
       "      <td>bless</td>\n",
       "      <td>2</td>\n",
       "    </tr>\n",
       "    <tr>\n",
       "      <th>899</th>\n",
       "      <td>states</td>\n",
       "      <td>1</td>\n",
       "    </tr>\n",
       "  </tbody>\n",
       "</table>\n",
       "<p>900 rows × 2 columns</p>\n",
       "</div>"
      ],
      "text/plain": [
       "          Word  Frequency\n",
       "0           my          2\n",
       "1       fellow          1\n",
       "2     citizens          1\n",
       "3            :          4\n",
       "4            i          3\n",
       "..         ...        ...\n",
       "895      great          1\n",
       "896  delivered          1\n",
       "897     safely          1\n",
       "898      bless          2\n",
       "899     states          1\n",
       "\n",
       "[900 rows x 2 columns]"
      ]
     },
     "execution_count": 31,
     "metadata": {},
     "output_type": "execute_result"
    }
   ],
   "source": [
    "pd.DataFrame(list(word_freq.items()), columns= [\"Word\",\"Frequency\"])"
   ]
  },
  {
   "cell_type": "code",
   "execution_count": null,
   "id": "e0b532da",
   "metadata": {},
   "outputs": [],
   "source": []
  }
 ],
 "metadata": {
  "kernelspec": {
   "display_name": "Python 3 (ipykernel)",
   "language": "python",
   "name": "python3"
  },
  "language_info": {
   "codemirror_mode": {
    "name": "ipython",
    "version": 3
   },
   "file_extension": ".py",
   "mimetype": "text/x-python",
   "name": "python",
   "nbconvert_exporter": "python",
   "pygments_lexer": "ipython3",
   "version": "3.9.7"
  }
 },
 "nbformat": 4,
 "nbformat_minor": 5
}
